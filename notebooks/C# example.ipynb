{
 "cells": [
  {
   "cell_type": "markdown",
   "metadata": {
    "dotnet_interactive": {
     "language": "csharp"
    }
   },
   "source": [
    "# C# example for AngouriMath\n",
    "\n",
    "While [AngouriMath.Interactive](https://www.nuget.org/packages/AngouriMath.Interactive) is recommended for research purposes, you can also use the default AngouriMath package in C# within interactive environment."
   ]
  },
  {
   "cell_type": "code",
   "execution_count": null,
   "metadata": {
    "dotnet_interactive": {
     "language": "csharp"
    },
    "vscode": {
     "languageId": "dotnet-interactive.csharp"
    }
   },
   "outputs": [
    {
     "data": {
      "text/html": [
       "<div><div><strong>Restore sources</strong><ul><li><span>https://www.myget.org/F/angourimath/api/v3/index.json</span></li></ul></div><div></div><div><strong>Installed Packages</strong><ul><li><span>AngouriMath, 10.0.0-master-1657608543-fc13e3d</span></li></ul></div></div>"
      ]
     },
     "metadata": {},
     "output_type": "display_data"
    },
    {
     "data": {
      "text/markdown": [
       "Loading extension script from `/home/goose/.nuget/packages/angourimath/10.0.0-master-1657608543-fc13e3d/interactive-extensions/dotnet/extension.dib`"
      ]
     },
     "metadata": {},
     "output_type": "display_data"
    },
    {
     "data": {
      "text/plain": [
       "Extensions for LaTeX loaded!"
      ]
     },
     "metadata": {},
     "output_type": "display_data"
    }
   ],
   "source": [
    "#i \"https://www.myget.org/F/angourimath/api/v3/index.json\"\n",
    "#r \"nuget:AngouriMath, *-*\""
   ]
  },
  {
   "cell_type": "markdown",
   "metadata": {
    "dotnet_interactive": {
     "language": "csharp"
    }
   },
   "source": [
    "### Basics"
   ]
  },
  {
   "cell_type": "code",
   "execution_count": null,
   "metadata": {
    "dotnet_interactive": {
     "language": "csharp"
    },
    "vscode": {
     "languageId": "dotnet-interactive.csharp"
    }
   },
   "outputs": [
    {
     "data": {
      "text/latex": [
       "$${a}^{2}+\\frac{\\sqrt{b}}{6} = 4$$"
      ]
     },
     "metadata": {},
     "output_type": "display_data"
    }
   ],
   "source": [
    "Entity expr = \"a2 + sqrt(b) / 6 = 4\";\n",
    "expr"
   ]
  },
  {
   "cell_type": "code",
   "execution_count": null,
   "metadata": {
    "dotnet_interactive": {
     "language": "csharp"
    },
    "vscode": {
     "languageId": "dotnet-interactive.csharp"
    }
   },
   "outputs": [
    {
     "data": {
      "text/latex": [
       "$$\\left\\{ \\sqrt{-\\left(\\frac{\\sqrt{b}}{6}-4\\right)}, -\\sqrt{-\\left(\\frac{\\sqrt{b}}{6}-4\\right)} \\right\\}$$"
      ]
     },
     "metadata": {},
     "output_type": "display_data"
    }
   ],
   "source": [
    "expr.Solve(\"a\")"
   ]
  },
  {
   "cell_type": "code",
   "execution_count": null,
   "metadata": {
    "dotnet_interactive": {
     "language": "csharp"
    },
    "vscode": {
     "languageId": "dotnet-interactive.csharp"
    }
   },
   "outputs": [
    {
     "data": {
      "text/latex": [
       "$$\\frac{\\cos\\left(a x\\right) \\cdot a \\cdot \\sqrt{x}-\\frac{1}{2} \\cdot \\frac{1}{\\sqrt{x}} \\cdot \\sin\\left(a x\\right)}{{\\left(\\sqrt{x}\\right)}^{2}}$$"
      ]
     },
     "metadata": {},
     "output_type": "display_data"
    }
   ],
   "source": [
    "\"sin(a x) / sqrt(x)\".ToEntity().Differentiate(\"x\")"
   ]
  },
  {
   "cell_type": "code",
   "execution_count": null,
   "metadata": {
    "dotnet_interactive": {
     "language": "csharp"
    },
    "vscode": {
     "languageId": "dotnet-interactive.csharp"
    }
   },
   "outputs": [
    {
     "data": {
      "text/latex": [
       "$$11$$"
      ]
     },
     "metadata": {},
     "output_type": "display_data"
    }
   ],
   "source": [
    "\"a + b\".ToEntity().Substitute(\"a\", 5).Substitute(\"b\", 6).Evaled"
   ]
  },
  {
   "cell_type": "code",
   "execution_count": null,
   "metadata": {
    "dotnet_interactive": {
     "language": "csharp"
    },
    "vscode": {
     "languageId": "dotnet-interactive.csharp"
    }
   },
   "outputs": [
    {
     "data": {
      "text/latex": [
       "$$\\left\\{ 1, 2 \\right\\} \\cup \\mathbb{R} \\cup \\left[3; \\infty \\right)$$"
      ]
     },
     "metadata": {},
     "output_type": "display_data"
    }
   ],
   "source": [
    "@\"{ 1, 2 } \\/ RR \\/ [3; +oo)\".ToEntity()"
   ]
  },
  {
   "cell_type": "code",
   "execution_count": null,
   "metadata": {
    "dotnet_interactive": {
     "language": "csharp"
    },
    "vscode": {
     "languageId": "dotnet-interactive.csharp"
    }
   },
   "outputs": [
    {
     "data": {
      "text/latex": [
       "$$\\begin{bmatrix}\\frac{\\arcsin\\left(-c\\right)+2 \\pi n_{1}}{-1} & -\\frac{\\arcsin\\left(-c\\right)+2 \\pi n_{1}}{-1} \\\\ \\frac{\\pi-\\arcsin\\left(-c\\right)+2 \\pi n_{1}}{-1} & -\\frac{\\pi-\\arcsin\\left(-c\\right)+2 \\pi n_{1}}{-1}\\end{bmatrix}$$"
      ]
     },
     "metadata": {},
     "output_type": "display_data"
    }
   ],
   "source": [
    "var system = MathS.Equations(\n",
    "    \"a + b\",\n",
    "    \"sin(b) + c\"\n",
    ");\n",
    "system.Solve(\"a\", \"b\")"
   ]
  }
 ],
 "metadata": {
  "kernelspec": {
   "display_name": ".NET (C#)",
   "language": "C#",
   "name": ".net-csharp"
  },
  "language_info": {
   "name": "C#"
  }
 },
 "nbformat": 4,
 "nbformat_minor": 2
}
